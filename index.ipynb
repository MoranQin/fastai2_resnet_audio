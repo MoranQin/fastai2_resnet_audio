{
 "cells": [
  {
   "cell_type": "markdown",
   "metadata": {},
   "source": [
    "# fastai2-resnet-audio\n",
    "\n",
    "> A ResNet-like 1D Convolutional Neural Network for Audio. "
   ]
  },
  {
   "cell_type": "markdown",
   "metadata": {},
   "source": [
    "## Install"
   ]
  },
  {
   "cell_type": "markdown",
   "metadata": {},
   "source": [
    "`git clone https://github.com/floleuerer/fastai2_resnet_audio.git`"
   ]
  },
  {
   "cell_type": "markdown",
   "metadata": {},
   "source": [
    "## How to use"
   ]
  },
  {
   "cell_type": "markdown",
   "metadata": {},
   "source": [
    "See Notebook `tutorial/tutorial.ipynb` for instructions."
   ]
  }
 ],
 "metadata": {
  "kernelspec": {
   "display_name": "Python 3.8.1 64-bit ('fastai2': conda)",
   "language": "python",
   "name": "python38164bitfastai2conda8f00f3245bb84569a74bc3f339ede271"
  }
 },
 "nbformat": 4,
 "nbformat_minor": 2
}
